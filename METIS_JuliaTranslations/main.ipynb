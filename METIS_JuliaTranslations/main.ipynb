{
 "cells": [
  {
   "cell_type": "code",
   "execution_count": 2,
   "metadata": {},
   "outputs": [
    {
     "ename": "ModuleNotFoundError",
     "evalue": "No module named 'integrate_transits'",
     "output_type": "error",
     "traceback": [
      "\u001b[0;31m---------------------------------------------------------------------------\u001b[0m",
      "\u001b[0;31mModuleNotFoundError\u001b[0m                       Traceback (most recent call last)",
      "Input \u001b[0;32mIn [2]\u001b[0m, in \u001b[0;36m<cell line: 12>\u001b[0;34m()\u001b[0m\n\u001b[1;32m     10\u001b[0m \u001b[38;5;28;01mfrom\u001b[39;00m \u001b[38;5;21;01mabsopac\u001b[39;00m \u001b[38;5;28;01mimport\u001b[39;00m \u001b[38;5;241m*\u001b[39m\n\u001b[1;32m     11\u001b[0m \u001b[38;5;66;03m#from aerosols import *\u001b[39;00m\n\u001b[0;32m---> 12\u001b[0m \u001b[38;5;28;01mfrom\u001b[39;00m \u001b[38;5;21;01mintegrate_transits\u001b[39;00m \u001b[38;5;28;01mimport\u001b[39;00m \u001b[38;5;241m*\u001b[39m\n\u001b[1;32m     13\u001b[0m \u001b[38;5;28;01mfrom\u001b[39;00m \u001b[38;5;21;01msetup_atm\u001b[39;00m \u001b[38;5;28;01mimport\u001b[39;00m \u001b[38;5;241m*\u001b[39m\n",
      "\u001b[0;31mModuleNotFoundError\u001b[0m: No module named 'integrate_transits'"
     ]
    }
   ],
   "source": [
    "#%matplotlib inline\n",
    "#%config InlineBackend.figure_format='retina'\n",
    "#%load_ext autoreload\n",
    "#%autoreload 2\n",
    "# ----------------------------------------------------------------------------------------------\n",
    "import numpy as np\n",
    "import matplotlib.pyplot as plt\n",
    "import time\n",
    "# ----------------------------------------------------------------------------------------------\n",
    "from absopac import *\n",
    "#from aerosols import *\n",
    "from integrate_transits import *\n",
    "from setup_atm import *\n",
    "#from vis import *"
   ]
  },
  {
   "cell_type": "code",
   "execution_count": null,
   "metadata": {},
   "outputs": [],
   "source": [
    "def tspec_from_dict(atmdict):\n",
    "    '''\n",
    "    Input dictionary should have \n",
    "    wlrange in microns\n",
    "    beta in degrees\n",
    "    Z in terms of Zsolar\n",
    "    everything else with dimensions in SI units\n",
    "    '''    \n",
    "    nalt = atmdict['nalt']   # number of altitude grid layers\n",
    "    nlong = atmdict['nlong'] # number of longitude grid points\n",
    "    nlat = atmdict['nlat']   # number of latitude grid points\n",
    "    atm_type = atmdict['atm_type'] # should be one of: clear1d, clear3d, aerosol1d, aerosol3d, eqCloud1d, eqCloud3d    \n",
    "    \n",
    "    P0 = atmdict['P0']  # reference pressure in Pascals\n",
    "    Z = atmdict['Z']    # metallicity in multiples of Z_sun\n",
    "    Mp = atmdict['Mp']  # Mass of the planet in kg\n",
    "    R0 = atmdict['Rp']  # reference radius for planet where it is opaque in meters\n",
    "    Rstar = atmdict['Rstar'] # radius of star in meters\n",
    "    wlrange = atmdict['wlrange'] # wavelength array for spectrum, in microns\n",
    "    nwl = len(wlrange)\n",
    "\n",
    "    def gasOpacFunc(Z,T,P): #based on metallicity,\n",
    "        # expects T in Kelvin, P in pascals\n",
    "        # expects T and P to be 1d arrays\n",
    "        # of equal length\n",
    "        mu = mu_func(Z,T,P)\n",
    "        rho = eos_idealgas(P, mu*gmol_to_kg, T)\n",
    "        gas = gasopac_func(Z, wlrange, T, rho)\n",
    "        rayleigh = rayleigh_func(Z, wlrange, T, rho)\n",
    "        return gas + rayleigh # units are light blocked per m, has shape (nT, nwl) or (nwl,) if nz=1\n",
    "    \n",
    "    if atm_type == 'clear1d':\n",
    "        Temp = atmdict['Temp']\n",
    "        solved_atm = atm_setup_1d(Temp,Mp,R0,P0,nwl,nalt,nlong,nlat,mu_func,Z) #atmosphere set up\n",
    "        Temps, Pressures, alt_range, long_range, lat_range, atmosphere_grid = solved_atm\n",
    "        true_depth = effective_area_at_full_depth_no_long_dep(alt_range, long_range, \n",
    "                    lat_range, Temps, Pressures, gasOpacFunc,nwl,100,Z)/(np.pi*Rstar**2.0)\n",
    "        \n",
    "    else:\n",
    "        print('Unknown atmosphere type, please pick one of: \\n') \n",
    "        print('clear1d, clear3d, aerosol1d, aerosol3d, eqCloud1d, eqCloud3d')\n",
    "        return None\n",
    "    \n",
    "    return true_depth"
   ]
  },
  {
   "cell_type": "markdown",
   "metadata": {},
   "source": [
    "## example of computing single T-P profile clear transit spectrum (note these are just isothermal for now...)"
   ]
  },
  {
   "cell_type": "code",
   "execution_count": null,
   "metadata": {},
   "outputs": [],
   "source": [
    "atmdict = { 'wlrange': np.logspace(np.log10(0.5),np.log10(12),300), # wavelength array for spectrum, in microns\n",
    "            'nalt': 100, # number of altitude grid layers\n",
    "            'nlong':60, # number of longitude grid points\n",
    "            'nlat':60,  # number of latitude grid points\n",
    " \n",
    "            'P0':10**5, # reference pressure in Pascals\n",
    "            'Z':1.0, # metallicity in multiples of Z_sun\n",
    "            'Mp': 0.8*Mj, # mass of the planet in kg\n",
    "            'Rp': 1.5*Rj,  # reference radius for the planet where all wavelengths are opaque, in meters\n",
    "            'Rstar': 0.9*Rsun, # radius of host star in meters    \n",
    "           \n",
    "            'atm_type':'clear1d', # should be one of: clear1d, clear3d, aerosol1d, aerosol3d, eqCloud1d, eqCloud3d    \n",
    "            'Temp':1600, # isothermal temperature\n",
    "        }\n",
    "clear1d_tspec = tspec_from_dict(atmdict)\n",
    "plt.semilogx(atmdict['wlrange'],clear1d_tspec*100)\n",
    "plt.xlabel('Wavelength ($\\mu$m)',fontsize=18)\n",
    "plt.ylabel('Transit Depth (%)',fontsize=18) "
   ]
  },
  {
   "cell_type": "code",
   "execution_count": 9,
   "metadata": {},
   "outputs": [],
   "source": [
    "# ----------------------------------------------------------------------------------------------\n",
    "# Data for 13 planets with estimated day and night temperatures\n",
    "# taken from table of values from Keating & Cowan 2019, double check with new data?\n",
    "# ----------------------------------------------------------------------------------------------\n",
    "names = ['HD189733b', 'WASP-43b','HD209458b','CoRoT-2b','HD149026b','WASP-14b',\n",
    "             'WASP-19b','HAT-P-7b','KELT-1b','WASP-18b','WASP-103b','WASP-12b','WASP-33b'] #waspy babies\n",
    "t0 = np.array([1636,2051,2053,2175,2411,2654,2995,3211,3391,3412,3530,3636,3874]) #equillibrium temp\n",
    "tday = np.array([1279,1664,1393,1631,1883,2351,2181,2678,2922,2894,2864,2630,3101]) #temp day highest\n",
    "tnight = np.array([979,984,1015,792,1098,1267,986,1507,1128,815,1528,1256,1776]) #temp night lowest in kelv\n",
    "m = np.array([1.142,2.052,0.69,3.31,0.357,7.341,1.114,1.741,27.23,10.4296,1.49,1.47,2.1])  #mass, jupiter mass\n",
    "r = np.array([1.138,1.036,1.38,1.465,0.718,1.281,1.395,1.431,1.15,1.165,1.528,1.9,1.603]) #radius of planet\n",
    "rstar = np.array([0.805,0.667,1.203,0.902,1.497,1.306,1.004,2.0,1.471,1.23,1.436,1.657,1.444]) #stellar radius\n"
   ]
  },
  {
   "cell_type": "code",
   "execution_count": null,
   "metadata": {
    "collapsed": false,
    "jupyter": {
     "outputs_hidden": false
    }
   },
   "outputs": [],
   "source": []
  }
 ],
 "metadata": {
  "kernelspec": {
   "display_name": "Python 3 (ipykernel)",
   "language": "python",
   "name": "python3"
  },
  "language_info": {
   "codemirror_mode": {
    "name": "ipython",
    "version": 3
   },
   "file_extension": ".py",
   "mimetype": "text/x-python",
   "name": "python",
   "nbconvert_exporter": "python",
   "pygments_lexer": "ipython3",
   "version": "3.9.12"
  },
  "vscode": {
   "interpreter": {
    "hash": "59b6078d8ee26280bab1d8636e05002ce45c3586bf9551d73ef4a612efc8f10d"
   }
  }
 },
 "nbformat": 4,
 "nbformat_minor": 4
}
