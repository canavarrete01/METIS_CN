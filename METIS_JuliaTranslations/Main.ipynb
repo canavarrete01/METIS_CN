{
 "cells": [
  {
   "cell_type": "markdown",
   "id": "ada27046-9512-4bb1-95cd-4ba0ab717d18",
   "metadata": {},
   "source": [
    "# Main Draft "
   ]
  },
  {
   "cell_type": "code",
   "execution_count": 32,
   "id": "03ced84d-c5f0-42bd-b660-fcae6103f9cf",
   "metadata": {},
   "outputs": [
    {
     "data": {
      "text/plain": [
       "atm_setup_1d (generic function with 1 method)"
      ]
     },
     "execution_count": 32,
     "metadata": {},
     "output_type": "execute_result"
    }
   ],
   "source": [
    "# ----------------------------------------------------------------------------------------------\n",
    "#Julia Packages\n",
    "using Plots\n",
    "using Pandas\n",
    "using PyCall\n",
    "np = pyimport(\"numpy\")\n",
    "#Question: Add in the Time package?\n",
    "# ----------------------------------------------------------------------------------------------\n",
    "# METIS Modules\n",
    "include(\"Absopac.jl\")\n",
    "include(\"Constants.jl\")\n",
    "include(\"Integrate_transits.jl\")\n",
    "include(\"Setup_Atmo.jl\")\n"
   ]
  },
  {
   "cell_type": "code",
   "execution_count": 33,
   "id": "b72b23ae",
   "metadata": {},
   "outputs": [
    {
     "data": {
      "text/plain": [
       "1350"
      ]
     },
     "execution_count": 33,
     "metadata": {},
     "output_type": "execute_result"
    }
   ],
   "source": [
    "function gasOpacFunc(Z,T,P, wlrange)\n",
    "    \"\"\"\n",
    "     expects Z in units of Z solar\n",
    "     expects T in Kelvin, P in pascals\n",
    "     expects T and P to be 1d arrays of equal length\n",
    "     expects wlrange to be a 1d array of wavelengths in microns\n",
    "     \n",
    "     returns the inverse mean free path in units 1/m\n",
    "    \"\"\"\n",
    "    mu = absopac.mu_func(Z,T,P) # use a varying mean molecular weight throughout the atmosphere\n",
    "    rho = setup_atm.eos_idealgas(P, mu*gmol_to_kg, T) # use the ideal gas equation of state\n",
    "    gas = absopac.gasopac_func(Z, wlrange, T, rho)\n",
    "    rayleigh = absopac.rayleigh_func(Z, wlrange, T, rho)\n",
    "    return gas + rayleigh # units are light blocked per m, has shape (nT, nwl) or (nwl,) if nz=1\n",
    "    end \n",
    "\n",
    "nalt  = 60 # number of altitude grid layers\n",
    "nlong = 60 # number of longitude grid points\n",
    "nlat  = 60 # number of latitude grid points\n",
    "\n",
    "wlrange = np.logspace(np.log10(0.5),np.log10(5.0),1000) # wavelength array for output spectrum, in microns\n",
    "nwl = length(wlrange) \n",
    "\n",
    "P0 = 10^4.15                # reference pressure in Pascals\n",
    "Z  = 1.0                     # metallicity in multiples of Z_sun\n",
    "Mp = 0.48*Mj       # mass of the planet in kg ##Note:pulling from constants?\n",
    "R0 = 1.2*Rj        # reference radius for the planet where all wavelengths are opaque, in meters\n",
    "Rstar = 1.05*Rsun  # radius of host star in meters \n",
    "Temp = 1350 \n",
    "\n"
   ]
  },
  {
   "cell_type": "code",
   "execution_count": 34,
   "id": "ea7090a4",
   "metadata": {},
   "outputs": [
    {
     "ename": "LoadError",
     "evalue": "MethodError: no method matching abs(::typeof(T))\n\u001b[0mClosest candidates are:\n\u001b[0m  abs(\u001b[91m::Union{Float16, Float32, Float64}\u001b[39m) at float.jl:486\n\u001b[0m  abs(\u001b[91m::Complex\u001b[39m) at complex.jl:277\n\u001b[0m  abs(\u001b[91m::T\u001b[39m) where T<:Measures.Length at ~/.julia/packages/Measures/PKOxJ/src/length.jl:36\n\u001b[0m  ...",
     "output_type": "error",
     "traceback": [
      "MethodError: no method matching abs(::typeof(T))\n\u001b[0mClosest candidates are:\n\u001b[0m  abs(\u001b[91m::Union{Float16, Float32, Float64}\u001b[39m) at float.jl:486\n\u001b[0m  abs(\u001b[91m::Complex\u001b[39m) at complex.jl:277\n\u001b[0m  abs(\u001b[91m::T\u001b[39m) where T<:Measures.Length at ~/.julia/packages/Measures/PKOxJ/src/length.jl:36\n\u001b[0m  ...",
      "",
      "Stacktrace:",
      " [1] _broadcast_getindex_evalf(f::typeof(abs), args::Function)",
      "   @ Base.Broadcast ./broadcast.jl:670",
      " [2] _broadcast_getindex(bc::Base.Broadcast.Broadcasted{Base.Broadcast.DefaultArrayStyle{0}, Nothing, typeof(abs), Tuple{Base.RefValue{typeof(T)}}}, I::CartesianIndex{0})",
      "   @ Base.Broadcast ./broadcast.jl:643",
      " [3] getindex",
      "   @ ./broadcast.jl:597 [inlined]",
      " [4] copy",
      "   @ ./broadcast.jl:875 [inlined]",
      " [5] materialize",
      "   @ ./broadcast.jl:860 [inlined]",
      " [6] mu_func(Z::Float64, T::Function, P::Float64)",
      "   @ Main ~/Documents/GitHub/METIS_CN/METIS_JuliaTranslations/Absopac.jl:260",
      " [7] top-level scope",
      "   @ In[34]:3"
     ]
    }
   ],
   "source": [
    "# set up the atmosphere as a set of temperatures and pressures  \n",
    "# on a 3d grid defined by altitude, longitude, latitude\n",
    "solved_atm = atm_setup_1d(Temp,Mp,R0,P0,nwl,nalt,nlong,nlat, mu_func(Z, T, P0),Z)\n",
    "\n",
    "# unpack the associated quantities that setup_atm.atm_setup_1d solved for into separate variables\n",
    "Temps, Pressures, alt_range, long_range, lat_range, atmosphere_grid = solved_atm\n",
    "\n",
    "# feed those structural quantities into the transit integration routine\n",
    "clear1d_tspec = effective_area_at_full_depth_no_long_dep(alt_range, long_range, \n",
    "            lat_range, Temps, Pressures, gasOpacFunc, nwl, 100, Z, wlrange)/(np.pi*Rstar^2.0) "
   ]
  },
  {
   "cell_type": "code",
   "execution_count": 31,
   "id": "be56d104-515f-4e8f-9414-4169f64d92ea",
   "metadata": {},
   "outputs": [
    {
     "ename": "LoadError",
     "evalue": "UndefVarError: clear1d_tspec not defined",
     "output_type": "error",
     "traceback": [
      "UndefVarError: clear1d_tspec not defined",
      "",
      "Stacktrace:",
      " [1] top-level scope",
      "   @ In[31]:3"
     ]
    }
   ],
   "source": [
    "# plot up your results \n",
    "plot!(size=(15,5))\n",
    "plot(wlrange,clear1d_tspec*100,linestyle=\"--\", xlims=(0.5, 5.0), ylims=(1.3,1.6))\n",
    "xlabel!(\"Wavelength ($\\mu$m)\",fontsize=18)\n",
    "ylabel!(\"Transit Depth (%)\",fontsize=18)\n",
    "#plt.axis([0.5,5,1.3,1.6])"
   ]
  },
  {
   "cell_type": "code",
   "execution_count": 19,
   "id": "783fe2a5-f71b-4245-8eb2-40ecd7d9187f",
   "metadata": {},
   "outputs": [],
   "source": []
  }
 ],
 "metadata": {
  "kernelspec": {
   "display_name": "Julia 1.8.5",
   "language": "julia",
   "name": "julia-1.8"
  },
  "language_info": {
   "file_extension": ".jl",
   "mimetype": "application/julia",
   "name": "julia",
   "version": "1.8.5"
  }
 },
 "nbformat": 4,
 "nbformat_minor": 5
}
